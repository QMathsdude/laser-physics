{
 "cells": [
  {
   "cell_type": "markdown",
   "id": "79ce0f22",
   "metadata": {},
   "source": [
    "## Self Healing Airy Beam"
   ]
  },
  {
   "cell_type": "markdown",
   "id": "62be50fb",
   "metadata": {},
   "source": [
    "### 1. What is an Airy Beam?"
   ]
  },
  {
   "cell_type": "markdown",
   "id": "8fe40f4d",
   "metadata": {},
   "source": [
    "An Airy beam is a special type of non-diffracting optical beam that exhibits unique properties, such as **self-acceleration, self-healing, and non-spreading propagation**. It was first theoretically proposed by physicist Michael Berry and colleagues in 1979 and experimentally demonstrated in 2007."
   ]
  },
  {
   "cell_type": "markdown",
   "id": "0becabfb",
   "metadata": {},
   "source": [
    "Comparison between *Airy* beam and *Gaussian* beam :\n",
    "| **Property**               | **Airy Beam**                         | **Gaussian Beam**                      |\n",
    "|----------------------------|---------------------------------------|----------------------------------------|\n",
    "| **Intensity Profile**      | Asymmetric (Airy function + side lobes) | Symmetric (bell-shaped, no side lobes) |\n",
    "| **Propagation Path**       | Curved (self-accelerating)            | Straight                               |\n",
    "| **Diffraction**            | Resists spreading (non-diffracting)   | Spreads due to diffraction             |\n",
    "| **Self-Healing**           | Yes (recovers after obstacles)        | No (blocked light is lost)             |\n",
    "| **Energy Distribution**    | Infinite (ideal) / Finite (apodized)  | Always finite                          |\n",
    "| **Applications**           | Optical trapping, curved plasmons     | Lasers, imaging, communications        |\n",
    "| **Mathematical Form**      | $Ai(x) \\cdot e^{a x}$ (apodized)    | $e^{-x^2/w^2}$ (Gaussian)           |"
   ]
  },
  {
   "cell_type": "markdown",
   "id": "dea8f0ba",
   "metadata": {},
   "source": [
    "---"
   ]
  },
  {
   "cell_type": "markdown",
   "id": "478a9f47",
   "metadata": {},
   "source": [
    "### 2. Formula for Airy Beam"
   ]
  },
  {
   "cell_type": "markdown",
   "id": "29d8829b",
   "metadata": {},
   "source": [
    "Formula for a 2-D nonspreading Airy beam.\n",
    "\n",
    "$$\n",
    "F(x,y,z)=Ai\\left(\\frac{x}{x_0}\\right)Ai\\left(\\frac{y}{y_0}\\right)e^{a_1x+a_2y}\n",
    "$$\n",
    "$$\n",
    "\\begin{align*}\n",
    "\\text{where}\\quad x_0&=\\text{scale }x\\\\\n",
    "y_0&=\\text{scale }y\\\\\n",
    "a_1&=\\text{degree of apodization in }x\\\\\n",
    "a_2&=\\text{degree of apodization in }y\\\\\n",
    "\\end{align*}\n",
    "$$\n",
    "- **Apodization factor** $a_1$ and $a_2$ are introduced to truncate the Airy beam, making it physically realizable.\n",
    "- The most common form is an exponential apodization, applied to the transverse coordinates $x$ and $y$.\n",
    "**Apodization** refers to :\n",
    "\n",
    "> Process of modifying the beam's infinite-energy ideal profile into a finite-energy version by applying an exponential or Gaussian decay factor.\n",
    "\n",
    "This is necessary because a true (mathematically ideal) Airy beam has infinite energy due to its slowly decaying side lobes, making it unrealizable in experiments."
   ]
  },
  {
   "cell_type": "markdown",
   "id": "707ba824",
   "metadata": {},
   "source": [
    "---"
   ]
  },
  {
   "cell_type": "markdown",
   "id": "fe622fda",
   "metadata": {},
   "source": [
    "### 3. Role of Apodization"
   ]
  },
  {
   "cell_type": "markdown",
   "id": "4222d875",
   "metadata": {},
   "source": [
    "The role of Apodization $a_1$ and $a_2:$ \n",
    "\n",
    "1. Controls Energy Finiteness\n",
    "    - A small $a$ (e.g., $a=0.1$) ensures the beam remains close to an ideal Airy beam but with finite energy.\n",
    "    - Larger $a$ truncates the beam more aggressively, reducing side lobes but also weakening non-diffracting properties.\n",
    "\n",
    "2. Affects Beam Propagation\n",
    "    - Higher $a$ reduces the self-accelerating effect and self-healing capability.\n",
    "    - Too small $a$ makes the beam experimentally unrealizable (still too much energy in side lobes).\n",
    "\n",
    "3. Balances Between Ideal and Realizable\n",
    "    - A typical experimental choice is $a\\approx0.05−0.2.$\n",
    "\n",
    "\n",
    "Comparison between *Ideal* and *Apodized* Airy beam :\n",
    "| **Property**               | **Ideal Airy Beam $(a = 0)$**       | **Apodized Airy Beam $(a > 0)$**      |\n",
    "|----------------------------|---------------------------------------|-----------------------------------------|\n",
    "| **Energy**                 | Infinite (unphysical)                 | Finite (experimentally realizable)      |\n",
    "| **Side Lobes**             | Strong, slowly decaying (∼1/𝑥)        | Exponentially suppressed $(\\approx e^{ax})$       |\n",
    "| **Self-Healing**           | Perfect (theoretically)               | Limited (depends on $a$)             |\n",
    "| **Self-Acceleration**      | Fully preserved                       | Reduced with larger $a$              |\n",
    "| **Diffraction Resistance** | Strong (non-diffracting)              | Weakened (more diffraction over distance) |\n",
    "| **Experimental Feasibility** | Impossible (infinite energy)        | Achievable (with spatial light modulators) |"
   ]
  },
  {
   "cell_type": "markdown",
   "id": "5fad316e",
   "metadata": {},
   "source": [
    "---"
   ]
  },
  {
   "cell_type": "markdown",
   "id": "38258d12",
   "metadata": {},
   "source": [
    "### 4. Simulation"
   ]
  },
  {
   "cell_type": "markdown",
   "id": "d78fa27f",
   "metadata": {},
   "source": [
    "Below is a simulation of an *Apodized Airy beam* which **passes through an object**."
   ]
  },
  {
   "cell_type": "code",
   "execution_count": 48,
   "id": "76414f36",
   "metadata": {},
   "outputs": [],
   "source": [
    "\"\"\"\n",
    "Self healing Airy beam. A disk is placed at some distance from the origin.\n",
    "This obstacle disturbs the beam, but it heals itself.\n",
    "\"\"\"\n",
    "\n",
    "import matplotlib.pyplot as plt\n",
    "import matplotlib.animation as animation\n",
    "from LightPipes import *\n",
    "\n",
    "# Parameters\n",
    "labda = 2.3*um      # Wavelength\n",
    "size = 30*mm        # Grid size\n",
    "N = 500             # Number of grids\n",
    "x0 = y0 = 1*mm      # Scale\n",
    "a1 = a2 = 0.1/mm    # Apodization\n",
    "prop = 2000*cm      # Total desired propagation distance\n",
    "z = 0*cm            # Current propagation distance\n",
    "dz = 2*cm           # Propagation step size\n",
    "\n",
    "# Obstacle Parameters\n",
    "obs1 = 300*cm        # Distance of onstacle from starting point\n",
    "r1 = 3*mm            # Radius of circular screen\n",
    "activated1 = False   # Checks whether beam has encountered object\n",
    "\n",
    "obs2 = 800*cm        # Distance of onstacle from starting point\n",
    "r2 = 1*mm            # Radius of circular screen\n",
    "activated2 = False   # Checks whether beam has encountered object\n",
    "\n",
    "# Create Matplotlib Figure and Axes\n",
    "ims = [] # List of lists for Artist(s) during Animation. e.g. [[A1,A2], [A1,A2]]\n",
    "fig, ax = plt.subplots()\n",
    "\n",
    "# Creates beam\n",
    "F0 = Begin(size, labda, N)          # Initialises beam\n",
    "F0 = AiryBeam2D(F0, x0, y0, a1, a2) # Converts beam to Airy beam\n",
    "# F0 = GaussBeam(F0, x0)\n",
    "\n",
    "\n",
    "# Simulate propagation\n",
    "for i in range(int(prop/dz)):\n",
    "    # Obstacle 1\n",
    "    if z >= obs1 and not activated1:\n",
    "        F0 = CircScreen(F0, r1)\n",
    "        activated1 = True\n",
    "\n",
    "    # Obstacle 2\n",
    "    if z >= obs2 and not activated2:\n",
    "        F0 = CircScreen(F0, r2)\n",
    "        activated2 = True\n",
    "\n",
    "    # Frame by frame Intensity of Airy beam\n",
    "    F = Fresnel(F0, z) # Propgation of field using convolution method\n",
    "    I = Intensity(F)\n",
    "    im = ax.imshow(I, animated=True, cmap='jet') # Frame\n",
    "    t = ax.annotate(text=\"z = {:4.0f}cm\".format(z/cm), xy=(100,100), color='w') # Annotate distance propagated, z\n",
    "\n",
    "    ims.append([im, t])\n",
    "\n",
    "    # Update current propagation distance\n",
    "    z += dz \n",
    "\n",
    "ani = animation.ArtistAnimation(fig, ims, interval=5, blit=True, repeat_delay=1000)\n",
    "ani.save(\"airy-beam-2obstacle-3mmmm-at300cm600cm.mp4\")\n",
    "plt.close() # Hide extra image"
   ]
  }
 ],
 "metadata": {
  "kernelspec": {
   "display_name": "laser",
   "language": "python",
   "name": "python3"
  },
  "language_info": {
   "codemirror_mode": {
    "name": "ipython",
    "version": 3
   },
   "file_extension": ".py",
   "mimetype": "text/x-python",
   "name": "python",
   "nbconvert_exporter": "python",
   "pygments_lexer": "ipython3",
   "version": "3.12.4"
  }
 },
 "nbformat": 4,
 "nbformat_minor": 5
}
